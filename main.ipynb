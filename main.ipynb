{
 "cells": [
  {
   "cell_type": "code",
   "execution_count": 1,
   "metadata": {},
   "outputs": [],
   "source": [
    "from tinydb import TinyDB\n",
    "from src.metadata import professores, salas, disciplinas, distancias"
   ]
  },
  {
   "cell_type": "code",
   "execution_count": 2,
   "metadata": {},
   "outputs": [],
   "source": [
    "db = TinyDB('db.json', encoding='utf-8', ensure_ascii=False, indent=4)\n",
    "_professores = db.table('professores')\n",
    "_disciplinas = db.table('disciplinas')\n",
    "_salas = db.table('salas')\n",
    "_distancias = db.table('distancias')\n",
    "\n",
    "for professor in professores:\n",
    "    _professores.insert(professor.as_json())\n",
    "\n",
    "for disciplina in disciplinas:\n",
    "    _disciplinas.insert(disciplina.as_json())\n",
    "\n",
    "for sala in salas:\n",
    "    _salas.insert(sala.as_json())\n",
    "\n",
    "for key, value in distancias.items():\n",
    "    _distancias.insert({'sala': key, 'distancias': value})\n",
    "\n"
   ]
  },
  {
   "cell_type": "code",
   "execution_count": null,
   "metadata": {},
   "outputs": [],
   "source": []
  }
 ],
 "metadata": {
  "interpreter": {
   "hash": "93f7395fd5905514554c3ec74a50d8b31b94cdf6ace930a2172af6a40043404d"
  },
  "kernelspec": {
   "display_name": "Python 3.9.11 ('.venv': venv)",
   "language": "python",
   "name": "python3"
  },
  "language_info": {
   "codemirror_mode": {
    "name": "ipython",
    "version": 3
   },
   "file_extension": ".py",
   "mimetype": "text/x-python",
   "name": "python",
   "nbconvert_exporter": "python",
   "pygments_lexer": "ipython3",
   "version": "3.9.12"
  },
  "orig_nbformat": 4
 },
 "nbformat": 4,
 "nbformat_minor": 2
}
